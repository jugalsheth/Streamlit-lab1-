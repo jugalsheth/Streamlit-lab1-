{
 "cells": [
  {
   "cell_type": "code",
   "execution_count": 1,
   "metadata": {},
   "outputs": [],
   "source": [
    "import streamlit as st\n",
    "import os \n",
    "import pandas as pd\n",
    "\n",
    "\n",
    "os.chdir('C:/Users/jugal/OneDrive/Desktop/Courses neu/Algorithmic dm/Lab 1')\n",
    "\n",
    "st.title('Heart Disease Diagnosis Assistant')\n",
    "st.markdown('This application is meant to **_assist_ _doctors_ _in_ diagnosing**, if a patient has a **_Heart_ _Disease_ _or_ not** using few details about their health')\n",
    "\n",
    "\n",
    "df = pd.read_csv('heart.csv')\n",
    "\n",
    "if st.checkbox('Show me Training Data'):\n",
    "        st.dataframe(df)\n",
    "\n",
    "st.markdown('Please **Enter _the_ _below_ details** to know the results -')\n",
    "\n",
    "age = st.text_input(label='Age')\n",
    "\n",
    "gender_ls = ['Male', 'Female']\n",
    "sex = st.selectbox('Gender', gender_ls)\n",
    "\n",
    "cp_ls = ['Typical Angina', 'Atypical Angina', 'Non-anginal pain', 'Asymptomatic']\n",
    "cp = st.multiselect('Chest pain Type', cp_ls)\n",
    "\n",
    "restbp = st.slider('Resting Blood Pressure', 0, 220, 120)\n",
    "\n",
    "chol = st.slider('Serum Cholesterol in mg/dl', 0, 600, 150)\n",
    "\n",
    "fbs_ls = ['fasting blood sugar > 120 mg/dl', 'fasting blood sugar < 120 mg/dl']\n",
    "fbs = st.selectbox('Fasting Blood Sugar (>126 mg/dL signals diabetes)', fbs_ls)\n",
    "\n",
    "\n",
    "\n",
    "if st.button('Check Diagnosis'):\n",
    "\n",
    "        st.header('A Machine Learning Model would predict this') "
   ]
  },
  {
   "cell_type": "code",
   "execution_count": null,
   "metadata": {},
   "outputs": [],
   "source": []
  }
 ],
 "metadata": {
  "kernelspec": {
   "display_name": "Python 3",
   "language": "python",
   "name": "python3"
  },
  "language_info": {
   "codemirror_mode": {
    "name": "ipython",
    "version": 3
   },
   "file_extension": ".py",
   "mimetype": "text/x-python",
   "name": "python",
   "nbconvert_exporter": "python",
   "pygments_lexer": "ipython3",
   "version": "3.8.3"
  }
 },
 "nbformat": 4,
 "nbformat_minor": 4
}
